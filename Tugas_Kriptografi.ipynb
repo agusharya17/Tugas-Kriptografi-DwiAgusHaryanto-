{
  "nbformat": 4,
  "nbformat_minor": 0,
  "metadata": {
    "colab": {
      "provenance": [],
      "authorship_tag": "ABX9TyPfhs6YcdP/xhw2HCPotCsb",
      "include_colab_link": true
    },
    "kernelspec": {
      "name": "python3",
      "display_name": "Python 3"
    },
    "language_info": {
      "name": "python"
    }
  },
  "cells": [
    {
      "cell_type": "markdown",
      "metadata": {
        "id": "view-in-github",
        "colab_type": "text"
      },
      "source": [
        "<a href=\"https://colab.research.google.com/github/agusharya17/Tugas-Kriptografi-DwiAgusHaryanto-/blob/main/Tugas_Kriptografi.ipynb\" target=\"_parent\"><img src=\"https://colab.research.google.com/assets/colab-badge.svg\" alt=\"Open In Colab\"/></a>"
      ]
    },
    {
      "cell_type": "code",
      "execution_count": 1,
      "metadata": {
        "colab": {
          "base_uri": "https://localhost:8080/"
        },
        "id": "vkTxLbqdE6ow",
        "outputId": "312bc202-9a4d-4b95-f080-a3a758c6d1c5"
      },
      "outputs": [
        {
          "output_type": "stream",
          "name": "stdout",
          "text": [
            "Plaintext: HelloWorld\n",
            "Encrypted text: RijvsUyvjn\n",
            "Decrypted text: HelloWorld\n"
          ]
        }
      ],
      "source": [
        "def vigenere_encrypt(plain_text, key):\n",
        "    encrypted_text = ''\n",
        "    key_length = len(key)\n",
        "    for i in range(len(plain_text)):\n",
        "        char = plain_text[i]\n",
        "        if char.isalpha():\n",
        "            key_char = key[i % key_length]\n",
        "            key_shift = ord(key_char.lower()) - ord('a')\n",
        "            if char.isupper():\n",
        "                encrypted_char = chr((ord(char) - ord('A') + key_shift) % 26 + ord('A'))\n",
        "            else:\n",
        "                encrypted_char = chr((ord(char) - ord('a') + key_shift) % 26 + ord('a'))\n",
        "            encrypted_text += encrypted_char\n",
        "        else:\n",
        "            encrypted_text += char\n",
        "    return encrypted_text\n",
        "\n",
        "def vigenere_decrypt(encrypted_text, key):\n",
        "    decrypted_text = ''\n",
        "    key_length = len(key)\n",
        "    for i in range(len(encrypted_text)):\n",
        "        char = encrypted_text[i]\n",
        "        if char.isalpha():\n",
        "            key_char = key[i % key_length]\n",
        "            key_shift = ord(key_char.lower()) - ord('a')\n",
        "            if char.isupper():\n",
        "                decrypted_char = chr((ord(char) - ord('A') - key_shift) % 26 + ord('A'))\n",
        "            else:\n",
        "                decrypted_char = chr((ord(char) - ord('a') - key_shift) % 26 + ord('a'))\n",
        "            decrypted_text += decrypted_char\n",
        "        else:\n",
        "            decrypted_text += char\n",
        "    return decrypted_text\n",
        "\n",
        "# Contoh penggunaan\n",
        "plain_text = \"HelloWorld\"\n",
        "key = \"KEY\"\n",
        "encrypted_text = vigenere_encrypt(plain_text, key)\n",
        "print(f\"Plaintext: {plain_text}\")\n",
        "print(f\"Encrypted text: {encrypted_text}\")\n",
        "decrypted_text = vigenere_decrypt(encrypted_text, key)\n",
        "print(f\"Decrypted text: {decrypted_text}\")\n"
      ]
    }
  ]
}